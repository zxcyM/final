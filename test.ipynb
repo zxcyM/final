{
 "cells": [
  {
   "cell_type": "code",
   "execution_count": 1,
   "metadata": {},
   "outputs": [],
   "source": [
    "from mysystem.read import StkDataProcessor"
   ]
  },
  {
   "cell_type": "code",
   "execution_count": 2,
   "metadata": {},
   "outputs": [
    {
     "name": "stdout",
     "output_type": "stream",
     "text": [
      "Data Start Date: 2020-01-02 00:00:00\n",
      "Data End Date: 2022-12-30 00:00:00\n",
      "           date     stk_id  cumulative_returns\n",
      "4428 2022-01-28  688262.SH          -84.367720\n",
      "468  2022-01-28  001227.SZ          -81.082566\n",
      "4295 2022-01-28  688062.SH          -77.761114\n",
      "4372 2022-01-28  688176.SH          -56.706570\n",
      "4433 2022-01-28  688270.SH          -55.061084\n",
      "...         ...        ...                 ...\n",
      "2547 2022-01-28  301117.SZ          217.140898\n",
      "3726 2022-01-28  603176.SH          271.020408\n",
      "3687 2022-01-28  603102.SH          438.728585\n",
      "4405 2022-01-28  688220.SH          948.688298\n",
      "3358 2022-01-28  600941.SH         1443.913396\n",
      "\n",
      "[4717 rows x 3 columns]\n"
     ]
    }
   ],
   "source": [
    "stk_processor = StkDataProcessor()\n",
    "#stk_processor.preprocess_data()\n",
    "#print(f\"All Stock IDs: {stk_processor.stock_ids}\")\n",
    "print(f\"Data Start Date: {stk_processor.start_date}\")\n",
    "print(f\"Data End Date: {stk_processor.end_date}\")\n",
    "\n",
    "#stk_processor.get_stock_data(stock_codes=['000001.SZ'], start_date='2022-01-01', end_date='2022-01-31')\n",
    "cumulative_returns_data = stk_processor.calculate_cumulative_returns(start_date='2022-01-01', end_date='2022-01-31')\n",
    "print(cumulative_returns_data)"
   ]
  }
 ],
 "metadata": {
  "kernelspec": {
   "display_name": "base",
   "language": "python",
   "name": "python3"
  },
  "language_info": {
   "codemirror_mode": {
    "name": "ipython",
    "version": 3
   },
   "file_extension": ".py",
   "mimetype": "text/x-python",
   "name": "python",
   "nbconvert_exporter": "python",
   "pygments_lexer": "ipython3",
   "version": "3.9.7"
  }
 },
 "nbformat": 4,
 "nbformat_minor": 2
}
